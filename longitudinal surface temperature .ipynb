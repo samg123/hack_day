{
 "cells": [
  {
   "cell_type": "code",
   "execution_count": 58,
   "metadata": {
    "collapsed": false
   },
   "outputs": [
    {
     "data": {
      "image/png": "[encoded data removed]",
      "text/plain": [
       "<matplotlib.figure.Figure at 0x104bb4eb8>"
      ]
     },
     "metadata": {},
     "output_type": "display_data"
    }
   ],
   "source": [
    "import numpy as np\n",
    "import matplotlib.pyplot as plt\n",
    "\n",
    "#add latitudes of stations to list\n",
    "lat =[70, 62, 53, 13] \n",
    "\n",
    "\n",
    "#list of station names\n",
    "station_name =['jan_mayen', 'torshavn', 'nottingham', 'bamako']\n",
    "\n",
    "surface_temp = np.zeros((4, 10))*np.nan\n",
    "#Make array of surface temps at each station for each day\n",
    "for station in range(0,4):\n",
    "    #Load data from txt file\n",
    "    data = np.genfromtxt(station_name[station]+'_week_temps.txt')\n",
    "    for time in range(0,10):\n",
    "        surface_temp[station][time] = data[time,1]\n",
    "\n",
    "\n",
    "\n",
    "plt.imshow(surface_temp, interpolation='none')\n",
    "plt.colorbar()\n",
    "ax=plt.gca()\n",
    "ax.set_ylabel('latitude')\n",
    "ax.set_yticklabels(lat)\n",
    "ax.set_yticks(range(0,4))\n",
    "ax.set_xticklabels([0, 1, 2, 3, 4, 5])\n",
    "ax.set_xlabel('January 2017')\n",
    "plt.show()"
   ]
  },
  {
   "cell_type": "code",
   "execution_count": 26,
   "metadata": {
    "collapsed": false
   },
   "outputs": [
    {
     "data": {
      "text/plain": [
       "(4, 9)"
      ]
     },
     "execution_count": 26,
     "metadata": {},
     "output_type": "execute_result"
    }
   ],
   "source": [
    "np.shape(surface_temp)"
   ]
  },
  {
   "cell_type": "code",
   "execution_count": 27,
   "metadata": {
    "collapsed": false
   },
   "outputs": [
    {
     "data": {
      "text/plain": [
       "array([[ 26. ,  25.2,  25. ,  26. ,  24.8,  25.4,  26. ,  25. ,  25. ],\n",
       "       [  7.6,   3.4,   2.2,   nan,   0.2,   nan,   6.8,   5.6,   1.4],\n",
       "       [  2.4,   1.2,   3.2,   5.4,   8.6,   4. ,   2. ,   0.6,   1.4],\n",
       "       [  nan,   nan,   nan,   nan,   nan,   nan,   nan,   nan,   nan]])"
      ]
     },
     "execution_count": 27,
     "metadata": {},
     "output_type": "execute_result"
    }
   ],
   "source": [
    "surface_temp"
   ]
  },
  {
   "cell_type": "code",
   "execution_count": null,
   "metadata": {
    "collapsed": true
   },
   "outputs": [],
   "source": []
  }
 ],
 "metadata": {
  "anaconda-cloud": {},
  "kernelspec": {
   "display_name": "Python [default]",
   "language": "python",
   "name": "python3"
  },
  "language_info": {
   "codemirror_mode": {
    "name": "ipython",
    "version": 3
   },
   "file_extension": ".py",
   "mimetype": "text/x-python",
   "name": "python",
   "nbconvert_exporter": "python",
   "pygments_lexer": "ipython3",
   "version": "3.5.2"
  }
 },
 "nbformat": 4,
 "nbformat_minor": 1
}
